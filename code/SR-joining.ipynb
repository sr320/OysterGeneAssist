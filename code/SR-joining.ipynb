{
 "cells": [
  {
   "cell_type": "markdown",
   "metadata": {},
   "source": [
    "# Troubleshooting a Join"
   ]
  },
  {
   "cell_type": "markdown",
   "metadata": {},
   "source": [
    "File 1 "
   ]
  },
  {
   "cell_type": "code",
   "execution_count": 1,
   "metadata": {},
   "outputs": [
    {
     "name": "stdout",
     "output_type": "stream",
     "text": [
      "\"\",\"gene_id\",\"gene_short_name\",\"cell_group\",\"marker_score\",\"mean_expression\",\"fraction_expressing\",\"specificity\",\"pseudo_R2\",\"marker_test_p_value\",\"marker_test_q_value\",\"V2\"\n",
      "\"1\",\"LOC105340423\",\"LOC105340423\",11,0.140614816815872,0.86873326399805,0.652618135376756,0.215462625375398,0.162046165755659,4.54986718036635e-81,2.45528122547854e-75,\"zinc finger protein 235\"\n",
      "\"2\",\"LOC105340423\",\"LOC105340423\",9,0.152707557104033,0.85312153122531,0.718525179856115,0.212529165831896,0.20363463616303,1.01436024412999e-119,5.47387333421821e-114,\"zinc finger protein 235\"\n",
      "\"3\",\"LOC105325769\",\"LOC105325769\",12,0.182398047688628,5.93822484614347,0.998260869565217,0.182715814322231,0.483798567808459,9.60285694237628e-206,5.18206651467005e-200,\"disks large-associated protein 5\"\n",
      "\"4\",\"LOC105325867\",\"LOC105325867\",11,0.143230876854753,0.852790590637519,0.417624521072797,0.342965677606334,0.136694778244057,1.31382945350952e-68,7.08992298632972e-63,\"potassium voltage-gated channel subfamily C member 3\"\n",
      "\"5\",\"LOC105327937\",\"LOC105327937\",8,0.18084933167901,0.680664941969855,0.376681614349776,0.480111916243087,0.166711898403167,1.81165629373868e-106,9.77638579040555e-101,\"alsin\"\n",
      "\"6\",\"LOC105328247\",\"LOC105328247\",16,0.261594190650065,1.02029070480638,0.330188679245283,0.792256691683054,0.231961901591706,9.8692699960009e-36,5.32583312210194e-30,\"monocarboxylate transporter 14\"\n",
      "\"7\",\"LOC105329793\",\"LOC105329793\",15,0.324686621230855,2.19679835184579,0.88953488372093,0.365007182037301,0.441610866505095,7.65461042899389e-141,4.13071866268141e-135,\"uncharacterized LOC105329793\"\n",
      "\"8\",\"LOC105330481\",\"LOC105330481\",18,0.0880002759506423,0.461851861883697,0.157894736842105,0.557335081020734,0.115785584710307,1.32081060405642e-09,0.000712759592751801,\"uncharacterized threonine-rich GPI-anchored glycoprotein PJ4664.02\"\n",
      "\"9\",\"LOC105331650\",\"LOC105331650\",1,0.0839195918427369,6.34478740020232,0.973738769868694,0.0861828597561677,0.00265261650399121,0.000627430959880358,1,\"histone H3.3\"\n"
     ]
    }
   ],
   "source": [
    "!head ../data/top25marker.csv"
   ]
  },
  {
   "cell_type": "code",
   "execution_count": 27,
   "metadata": {},
   "outputs": [],
   "source": [
    "!cut -d',' -f2,3,4,5,6,7,8,9,10,11,12 ../data/top25marker.csv | sort > ../data/top25marker.sorted"
   ]
  },
  {
   "cell_type": "code",
   "execution_count": null,
   "metadata": {},
   "outputs": [],
   "source": [
    "!head "
   ]
  },
  {
   "cell_type": "markdown",
   "metadata": {},
   "source": [
    "File 2"
   ]
  },
  {
   "cell_type": "code",
   "execution_count": 2,
   "metadata": {},
   "outputs": [
    {
     "name": "stdout",
     "output_type": "stream",
     "text": [
      "\"\",\"X.x\",\"Entry\",\"X.y\",\"Entry.name\",\"Status\",\"Protein.names\",\"Gene.names\",\"Organism\",\"Length\",\"Tissue.specificity\",\"Induction\",\"Developmental.stage\",\"V2\"\n",
      "\"1\",\"lcl|NW_011934501.1_cds_XP_011426503.1_1\",\"Q6AY59\",3,\"MOC2B_RAT\",\"reviewed\",\"Molybdopterin synthase catalytic subunit (EC 2.8.1.12) (Molybdenum cofactor synthesis protein 2 large subunit) (Molybdenum cofactor synthesis protein 2B) (MOCS2B)\",\"Mocs2\",\"Rattus norvegicus (Rat)\",200,\"\",\"\",\"\",\"LOC105317034\"\n",
      "\"2\",\"lcl|NW_011934501.1_cds_XP_011426503.1_1\",\"A4FUY7\",2,\"MOC2B_BOVIN\",\"reviewed\",\"Molybdopterin synthase catalytic subunit (EC 2.8.1.12) (Molybdenum cofactor synthesis protein 2 large subunit) (Molybdenum cofactor synthesis protein 2B) (MOCS2B)\",\"MOCS2\",\"Bos taurus (Bovine)\",189,\"\",\"\",\"\",\"LOC105317034\"\n",
      "\"3\",\"lcl|NW_011934501.1_cds_XP_011426503.1_1\",\"Q9Z223\",1,\"MOC2B_MOUSE\",\"reviewed\",\"Molybdopterin synthase catalytic subunit (EC 2.8.1.12) (Molybdenum cofactor synthesis protein 2 large subunit) (Molybdenum cofactor synthesis protein 2B) (MOCS2B)\",\"Mocs2\",\"Mus musculus (Mouse)\",189,\"\",\"\",\"\",\"LOC105317034\"\n",
      "\"4\",\"lcl|NW_011934501.1_cds_XP_011426503.1_1\",\"O96007\",4,\"MOC2B_HUMAN\",\"reviewed\",\"Molybdopterin synthase catalytic subunit (EC 2.8.1.12) (MOCO1-B) (Molybdenum cofactor synthesis protein 2 large subunit) (Molybdenum cofactor synthesis protein 2B) (MOCS2B) (Molybdopterin-synthase large subunit) (MPT synthase large subunit)\",\"MOCS2 MCBPE MOCO1\",\"Homo sapiens (Human)\",188,\"TISSUE SPECIFICITY: Highest levels are found in heart and skeletal muscle. Lower levels are present in brain, kidney and pancreas. Very low levels are found in lung and peripheral blood leukocytes. {ECO:0000269|PubMed:10053003}.\",\"\",\"\",\"LOC105317034\"\n",
      "\"5\",\"lcl|NW_011934501.1_cds_XP_011426503.1_1\",\"Q5RA61\",5,\"MOC2B_PONAB\",\"reviewed\",\"Molybdopterin synthase catalytic subunit (EC 2.8.1.12) (Molybdenum cofactor synthesis protein 2 large subunit) (Molybdenum cofactor synthesis protein 2B) (MOCS2B)\",\"MOCS2\",\"Pongo abelii (Sumatran orangutan) (Pongo pygmaeus abelii)\",172,\"\",\"\",\"\",\"LOC105317034\"\n",
      "\"6\",\"lcl|NW_011934501.1_cds_XP_011434216.1_2\",\"A4FUY7\",2,\"MOC2B_BOVIN\",\"reviewed\",\"Molybdopterin synthase catalytic subunit (EC 2.8.1.12) (Molybdenum cofactor synthesis protein 2 large subunit) (Molybdenum cofactor synthesis protein 2B) (MOCS2B)\",\"MOCS2\",\"Bos taurus (Bovine)\",189,\"\",\"\",\"\",\"LOC105317034\"\n",
      "\"7\",\"lcl|NW_011934501.1_cds_XP_011434216.1_2\",\"Q5RA61\",5,\"MOC2B_PONAB\",\"reviewed\",\"Molybdopterin synthase catalytic subunit (EC 2.8.1.12) (Molybdenum cofactor synthesis protein 2 large subunit) (Molybdenum cofactor synthesis protein 2B) (MOCS2B)\",\"MOCS2\",\"Pongo abelii (Sumatran orangutan) (Pongo pygmaeus abelii)\",172,\"\",\"\",\"\",\"LOC105317034\"\n",
      "\"8\",\"lcl|NW_011934501.1_cds_XP_011434216.1_2\",\"O96007\",4,\"MOC2B_HUMAN\",\"reviewed\",\"Molybdopterin synthase catalytic subunit (EC 2.8.1.12) (MOCO1-B) (Molybdenum cofactor synthesis protein 2 large subunit) (Molybdenum cofactor synthesis protein 2B) (MOCS2B) (Molybdopterin-synthase large subunit) (MPT synthase large subunit)\",\"MOCS2 MCBPE MOCO1\",\"Homo sapiens (Human)\",188,\"TISSUE SPECIFICITY: Highest levels are found in heart and skeletal muscle. Lower levels are present in brain, kidney and pancreas. Very low levels are found in lung and peripheral blood leukocytes. {ECO:0000269|PubMed:10053003}.\",\"\",\"\",\"LOC105317034\"\n",
      "\"9\",\"lcl|NW_011934501.1_cds_XP_011434216.1_2\",\"Q9Z223\",1,\"MOC2B_MOUSE\",\"reviewed\",\"Molybdopterin synthase catalytic subunit (EC 2.8.1.12) (Molybdenum cofactor synthesis protein 2 large subunit) (Molybdenum cofactor synthesis protein 2B) (MOCS2B)\",\"Mocs2\",\"Mus musculus (Mouse)\",189,\"\",\"\",\"\",\"LOC105317034\"\n"
     ]
    }
   ],
   "source": [
    "!head ../data/locusMerge.csv"
   ]
  },
  {
   "cell_type": "code",
   "execution_count": 19,
   "metadata": {},
   "outputs": [],
   "source": [
    "!awk 'BEGIN { FS = \",\" } ; {print $14, $2, $3, $4, $5, $7, $8, $9, $10, $11, $12, $13}' ../data/locusMerge.csv \\\n",
    "| sort > ../data/locusMerge.sorted"
   ]
  },
  {
   "cell_type": "code",
   "execution_count": 22,
   "metadata": {},
   "outputs": [
    {
     "name": "stdout",
     "output_type": "stream",
     "text": [
      "\"LOC105346986\" \"lcl|NW_011934612.1_cds_XP_011454255.1_312\" \"Q7M3Y3\" 112 \"TNNI_CHLNI\" \"Troponin I (TnI)\" \"\" \"Chlamys nipponensis akazara (Akazara scallop) (Japanese scallop)\" 292 \"\" \"\" \"\"\n",
      "\"LOC105347120\" \"lcl|NW_011934612.1_cds_XP_019929820.1_299\" \"Q6GNV7\" 104 \"DIRC2_XENLA\" \"Solute carrier family 49 member 4 homolog (Disrupted in renal carcinoma protein 2 homolog)\" \"slc49a4 dirc2\" \"Xenopus laevis (African clawed frog)\" 456 \"\" \"\" \"\"\n",
      "\"V2\" \"X.x\" \"Entry\" \"X.y\" \"Entry.name\" \"Protein.names\" \"Gene.names\" \"Organism\" \"Length\" \"Tissue.specificity\" \"Induction\" \"Developmental.stage\"\n"
     ]
    }
   ],
   "source": [
    "!tail -3 ../data/locusMerge.sorted"
   ]
  },
  {
   "cell_type": "code",
   "execution_count": null,
   "metadata": {},
   "outputs": [],
   "source": []
  }
 ],
 "metadata": {
  "kernelspec": {
   "display_name": "Python 3",
   "language": "python",
   "name": "python3"
  },
  "language_info": {
   "codemirror_mode": {
    "name": "ipython",
    "version": 3
   },
   "file_extension": ".py",
   "mimetype": "text/x-python",
   "name": "python",
   "nbconvert_exporter": "python",
   "pygments_lexer": "ipython3",
   "version": "3.8.3"
  }
 },
 "nbformat": 4,
 "nbformat_minor": 4
}
