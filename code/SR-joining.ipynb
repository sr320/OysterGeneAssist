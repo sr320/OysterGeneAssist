{
 "cells": [
  {
   "cell_type": "markdown",
   "metadata": {},
   "source": [
    "# Troubleshooting a Join"
   ]
  },
  {
   "cell_type": "markdown",
   "metadata": {},
   "source": [
    "File 1 "
   ]
  },
  {
   "cell_type": "code",
   "execution_count": 1,
   "metadata": {},
   "outputs": [
    {
     "name": "stdout",
     "output_type": "stream",
     "text": [
      "\"\",\"gene_id\",\"gene_short_name\",\"cell_group\",\"marker_score\",\"mean_expression\",\"fraction_expressing\",\"specificity\",\"pseudo_R2\",\"marker_test_p_value\",\"marker_test_q_value\",\"V2\"\n",
      "\"1\",\"LOC105340423\",\"LOC105340423\",11,0.140614816815872,0.86873326399805,0.652618135376756,0.215462625375398,0.162046165755659,4.54986718036635e-81,2.45528122547854e-75,\"zinc finger protein 235\"\n",
      "\"2\",\"LOC105340423\",\"LOC105340423\",9,0.152707557104033,0.85312153122531,0.718525179856115,0.212529165831896,0.20363463616303,1.01436024412999e-119,5.47387333421821e-114,\"zinc finger protein 235\"\n",
      "\"3\",\"LOC105325769\",\"LOC105325769\",12,0.182398047688628,5.93822484614347,0.998260869565217,0.182715814322231,0.483798567808459,9.60285694237628e-206,5.18206651467005e-200,\"disks large-associated protein 5\"\n",
      "\"4\",\"LOC105325867\",\"LOC105325867\",11,0.143230876854753,0.852790590637519,0.417624521072797,0.342965677606334,0.136694778244057,1.31382945350952e-68,7.08992298632972e-63,\"potassium voltage-gated channel subfamily C member 3\"\n",
      "\"5\",\"LOC105327937\",\"LOC105327937\",8,0.18084933167901,0.680664941969855,0.376681614349776,0.480111916243087,0.166711898403167,1.81165629373868e-106,9.77638579040555e-101,\"alsin\"\n",
      "\"6\",\"LOC105328247\",\"LOC105328247\",16,0.261594190650065,1.02029070480638,0.330188679245283,0.792256691683054,0.231961901591706,9.8692699960009e-36,5.32583312210194e-30,\"monocarboxylate transporter 14\"\n",
      "\"7\",\"LOC105329793\",\"LOC105329793\",15,0.324686621230855,2.19679835184579,0.88953488372093,0.365007182037301,0.441610866505095,7.65461042899389e-141,4.13071866268141e-135,\"uncharacterized LOC105329793\"\n",
      "\"8\",\"LOC105330481\",\"LOC105330481\",18,0.0880002759506423,0.461851861883697,0.157894736842105,0.557335081020734,0.115785584710307,1.32081060405642e-09,0.000712759592751801,\"uncharacterized threonine-rich GPI-anchored glycoprotein PJ4664.02\"\n",
      "\"9\",\"LOC105331650\",\"LOC105331650\",1,0.0839195918427369,6.34478740020232,0.973738769868694,0.0861828597561677,0.00265261650399121,0.000627430959880358,1,\"histone H3.3\"\n"
     ]
    }
   ],
   "source": [
    "!head ../data/top25marker.csv"
   ]
  },
  {
   "cell_type": "code",
   "execution_count": 27,
   "metadata": {},
   "outputs": [],
   "source": [
    "!cut -d',' -f2,3,4,5,6,7,8,9,10,11,12 ../data/top25marker.csv | sort > ../data/top25marker.sorted"
   ]
  },
  {
   "cell_type": "code",
   "execution_count": 28,
   "metadata": {},
   "outputs": [
    {
     "name": "stdout",
     "output_type": "stream",
     "text": [
      "\"Aif1\",\"Aif1\",16,0.338742401732072,1.80439409219466,0.452830188679245,0.748056137158327,0.3082877931796,5.83017879301542e-47,3.14618602350525e-41,\"allograft inflammatory factor 1\"\n",
      "\"Hmgb1\",\"Hmgb1\",18,0.0919631255024263,3.43215232856729,0.921052631578947,0.09984567911692,0.0155753756713401,0.0261659741853979,1,\"high mobility group box 1\"\n",
      "\"Hmgb1\",\"Hmgb1\",6,0.103830778204129,3.75437903512542,0.969917515769044,0.107051142510611,0.0788680893291452,1.18828000177976e-60,6.41241043600426e-55,\"high mobility group box 1\"\n",
      "\"LOC105317174\",\"LOC105317174\",17,0.0794224197722997,8.41297097056959,0.989690721649485,0.0802497366449278,0.000602963543472023,0.537982381852289,1,\"G2/mitotic-specific cyclin-B\"\n",
      "\"LOC105317174\",\"LOC105317174\",2,0.0737727518243759,7.76694767808127,0.978947368421053,0.075359262616298,0.000100089244948288,0.509097517715162,1,\"G2/mitotic-specific cyclin-B\"\n",
      "\"LOC105317174\",\"LOC105317174\",5,0.122921237458296,14.5779594767292,0.998726655348047,0.123077958118038,0.26400509136664,2.69314373803032e-211,1.45332270050321e-205,\"G2/mitotic-specific cyclin-B\"\n",
      "\"LOC105317175\",\"LOC105317175\",14,0.237379804539649,1.12512401025061,0.428571428571429,0.553886210592514,0.219753887003492,4.34758371118761e-76,2.34612137873786e-70,\"uncharacterized LOC105317175\"\n",
      "\"LOC105317254\",\"LOC105317254\",12,0.271526624794894,0.605112816512318,0.56,0.484868972848026,0.296082236283977,7.28078406081495e-126,3.92898774901006e-120,\"uncharacterized LOC105317254\"\n",
      "\"LOC105317322\",\"LOC105317322\",4,0.202990141152892,2.1677537070874,0.700473292765382,0.289789979503019,0.200443847020569,7.2597737274045e-174,3.91764977470911e-168,\"uncharacterized LOC105317322\"\n",
      "\"LOC105317369\",\"LOC105317369\",18,0.0869750526670724,5.37256602458264,0.973684210526316,0.0893257297661825,0.00524418831807623,0.19694659524684,1,\"uncharacterized LOC105317369\"\n"
     ]
    }
   ],
   "source": [
    "!head ../data/top25marker.sorted"
   ]
  },
  {
   "cell_type": "code",
   "execution_count": 53,
   "metadata": {},
   "outputs": [
    {
     "name": "stdout",
     "output_type": "stream",
     "text": [
      "\"LOC105317174\",\"LOC105317174\",17,0.0794224197722997,8.41297097056959,0.989690721649485,0.0802497366449278,0.000602963543472023,0.537982381852289,1,\"G2/mitotic-specific cyclin-B\"\n",
      "\"LOC105317174\",\"LOC105317174\",2,0.0737727518243759,7.76694767808127,0.978947368421053,0.075359262616298,0.000100089244948288,0.509097517715162,1,\"G2/mitotic-specific cyclin-B\"\n",
      "\"LOC105317174\",\"LOC105317174\",5,0.122921237458296,14.5779594767292,0.998726655348047,0.123077958118038,0.26400509136664,2.69314373803032e-211,1.45332270050321e-205,\"G2/mitotic-specific cyclin-B\"\n"
     ]
    }
   ],
   "source": [
    "!grep \"LOC105317174\" ../data/top25marker.sorted"
   ]
  },
  {
   "cell_type": "code",
   "execution_count": 99,
   "metadata": {},
   "outputs": [],
   "source": [
    "!grep \"LOC105346986\" ../data/top25marker.sorted"
   ]
  },
  {
   "cell_type": "code",
   "execution_count": 102,
   "metadata": {},
   "outputs": [
    {
     "name": "stdout",
     "output_type": "stream",
     "text": [
      "\"Aif1\"\n",
      "\"Hmgb1\"\n",
      "\"Hmgb1\"\n",
      "\"LOC105317174\"\n",
      "\"LOC105317174\"\n",
      "\"LOC105317174\"\n",
      "\"LOC105317175\"\n",
      "\"LOC105317254\"\n",
      "\"LOC105317322\"\n",
      "\"LOC105317369\"\n"
     ]
    }
   ],
   "source": [
    "!cut -d',' -f1 ../data/top25marker.sorted | head"
   ]
  },
  {
   "cell_type": "code",
   "execution_count": 103,
   "metadata": {},
   "outputs": [],
   "source": [
    "!cut -d',' -f1 ../data/top25marker.sorted | pbcopy"
   ]
  },
  {
   "cell_type": "markdown",
   "metadata": {},
   "source": [
    "File 2"
   ]
  },
  {
   "cell_type": "code",
   "execution_count": 68,
   "metadata": {},
   "outputs": [
    {
     "name": "stdout",
     "output_type": "stream",
     "text": [
      "\"\",\"X.x\",\"Entry\",\"X.y\",\"Entry.name\",\"Status\",\"Protein.names\",\"Gene.names\",\"Organism\",\"Length\",\"Tissue.specificity\",\"Induction\",\"Developmental.stage\",\"V2\"\n",
      "\"1\",\"lcl|NW_011934501.1_cds_XP_011426503.1_1\",\"Q6AY59\",3,\"MOC2B_RAT\",\"reviewed\",\"Molybdopterin synthase catalytic subunit (EC 2.8.1.12) (Molybdenum cofactor synthesis protein 2 large subunit) (Molybdenum cofactor synthesis protein 2B) (MOCS2B)\",\"Mocs2\",\"Rattus norvegicus (Rat)\",200,\"\",\"\",\"\",\"LOC105317034\"\n",
      "\"2\",\"lcl|NW_011934501.1_cds_XP_011426503.1_1\",\"A4FUY7\",2,\"MOC2B_BOVIN\",\"reviewed\",\"Molybdopterin synthase catalytic subunit (EC 2.8.1.12) (Molybdenum cofactor synthesis protein 2 large subunit) (Molybdenum cofactor synthesis protein 2B) (MOCS2B)\",\"MOCS2\",\"Bos taurus (Bovine)\",189,\"\",\"\",\"\",\"LOC105317034\"\n",
      "\"3\",\"lcl|NW_011934501.1_cds_XP_011426503.1_1\",\"Q9Z223\",1,\"MOC2B_MOUSE\",\"reviewed\",\"Molybdopterin synthase catalytic subunit (EC 2.8.1.12) (Molybdenum cofactor synthesis protein 2 large subunit) (Molybdenum cofactor synthesis protein 2B) (MOCS2B)\",\"Mocs2\",\"Mus musculus (Mouse)\",189,\"\",\"\",\"\",\"LOC105317034\"\n",
      "\"4\",\"lcl|NW_011934501.1_cds_XP_011426503.1_1\",\"O96007\",4,\"MOC2B_HUMAN\",\"reviewed\",\"Molybdopterin synthase catalytic subunit (EC 2.8.1.12) (MOCO1-B) (Molybdenum cofactor synthesis protein 2 large subunit) (Molybdenum cofactor synthesis protein 2B) (MOCS2B) (Molybdopterin-synthase large subunit) (MPT synthase large subunit)\",\"MOCS2 MCBPE MOCO1\",\"Homo sapiens (Human)\",188,\"TISSUE SPECIFICITY: Highest levels are found in heart and skeletal muscle. Lower levels are present in brain, kidney and pancreas. Very low levels are found in lung and peripheral blood leukocytes. {ECO:0000269|PubMed:10053003}.\",\"\",\"\",\"LOC105317034\"\n",
      "\"5\",\"lcl|NW_011934501.1_cds_XP_011426503.1_1\",\"Q5RA61\",5,\"MOC2B_PONAB\",\"reviewed\",\"Molybdopterin synthase catalytic subunit (EC 2.8.1.12) (Molybdenum cofactor synthesis protein 2 large subunit) (Molybdenum cofactor synthesis protein 2B) (MOCS2B)\",\"MOCS2\",\"Pongo abelii (Sumatran orangutan) (Pongo pygmaeus abelii)\",172,\"\",\"\",\"\",\"LOC105317034\"\n",
      "\"6\",\"lcl|NW_011934501.1_cds_XP_011434216.1_2\",\"A4FUY7\",2,\"MOC2B_BOVIN\",\"reviewed\",\"Molybdopterin synthase catalytic subunit (EC 2.8.1.12) (Molybdenum cofactor synthesis protein 2 large subunit) (Molybdenum cofactor synthesis protein 2B) (MOCS2B)\",\"MOCS2\",\"Bos taurus (Bovine)\",189,\"\",\"\",\"\",\"LOC105317034\"\n",
      "\"7\",\"lcl|NW_011934501.1_cds_XP_011434216.1_2\",\"Q5RA61\",5,\"MOC2B_PONAB\",\"reviewed\",\"Molybdopterin synthase catalytic subunit (EC 2.8.1.12) (Molybdenum cofactor synthesis protein 2 large subunit) (Molybdenum cofactor synthesis protein 2B) (MOCS2B)\",\"MOCS2\",\"Pongo abelii (Sumatran orangutan) (Pongo pygmaeus abelii)\",172,\"\",\"\",\"\",\"LOC105317034\"\n",
      "\"8\",\"lcl|NW_011934501.1_cds_XP_011434216.1_2\",\"O96007\",4,\"MOC2B_HUMAN\",\"reviewed\",\"Molybdopterin synthase catalytic subunit (EC 2.8.1.12) (MOCO1-B) (Molybdenum cofactor synthesis protein 2 large subunit) (Molybdenum cofactor synthesis protein 2B) (MOCS2B) (Molybdopterin-synthase large subunit) (MPT synthase large subunit)\",\"MOCS2 MCBPE MOCO1\",\"Homo sapiens (Human)\",188,\"TISSUE SPECIFICITY: Highest levels are found in heart and skeletal muscle. Lower levels are present in brain, kidney and pancreas. Very low levels are found in lung and peripheral blood leukocytes. {ECO:0000269|PubMed:10053003}.\",\"\",\"\",\"LOC105317034\"\n",
      "\"9\",\"lcl|NW_011934501.1_cds_XP_011434216.1_2\",\"Q9Z223\",1,\"MOC2B_MOUSE\",\"reviewed\",\"Molybdopterin synthase catalytic subunit (EC 2.8.1.12) (Molybdenum cofactor synthesis protein 2 large subunit) (Molybdenum cofactor synthesis protein 2B) (MOCS2B)\",\"Mocs2\",\"Mus musculus (Mouse)\",189,\"\",\"\",\"\",\"LOC105317034\"\n"
     ]
    }
   ],
   "source": [
    "!head ../data/locusMerge.csv"
   ]
  },
  {
   "cell_type": "code",
   "execution_count": 94,
   "metadata": {},
   "outputs": [],
   "source": [
    "!awk -F',' 'BEGIN { OFS=\",\" } {print $14, $2, $3, $4, $5, $7, $8, $9, $10, $11, $12, $13}' ../data/locusMerge.csv \\\n",
    "> ../data/locusMerge.sorted"
   ]
  },
  {
   "cell_type": "code",
   "execution_count": 95,
   "metadata": {},
   "outputs": [
    {
     "name": "stdout",
     "output_type": "stream",
     "text": [
      "\"LOC105347120\",\"lcl|NW_011934612.1_cds_XP_019929820.1_299\",\"Q6GNV7\",104,\"DIRC2_XENLA\",\"Solute carrier family 49 member 4 homolog (Disrupted in renal carcinoma protein 2 homolog)\",\"slc49a4 dirc2\",\"Xenopus laevis (African clawed frog)\",456,\"\",\"\",\"\"\n",
      "\"\",\"lcl|NW_011934612.1_cds_XP_019930013.1_306\",\"Q7Z443\",110,\"PK1L3_HUMAN\",\"Polycystic kidney disease protein 1-like 3 (PC1-like 3 protein) (Polycystin-1L3)\",\"PKD1L3\",\"Homo sapiens (Human)\",1732,\"TISSUE SPECIFICITY: Highly expressed in placenta, weakly in heart and lung. {ECO:0000269|PubMed:12782129}.\",\"\"\n",
      " fibroblasts,\"lcl|NW_011934613.1_cds_XP_019930286.1_313\",\"Q9ESN4\",113,\"C1QL3_MOUSE\",\"Complement C1q-like protein 3 (C1q and tumor necrosis factor-related protein 13) (C1q/TNF-related protein 13) (CTRP13) (Gliacolin)\",\"C1ql3 C1ql Ctrp13\",\"Mus musculus (Mouse)\",255,\"TISSUE SPECIFICITY: Highly expressed in brain and white adipose tissue. In gonadal fat pad, expressed at lower levels in adipocytes than in the stromal vascular fraction (VSP), which contains preadipocytes\n"
     ]
    }
   ],
   "source": [
    "!tail -3 ../data/locusMerge.sorted"
   ]
  },
  {
   "cell_type": "code",
   "execution_count": 96,
   "metadata": {},
   "outputs": [],
   "source": [
    "!grep LOC105317174 ../data/locusMerge.sorted"
   ]
  },
  {
   "cell_type": "code",
   "execution_count": 97,
   "metadata": {},
   "outputs": [
    {
     "name": "stdout",
     "output_type": "stream",
     "text": [
      "\"LOC105346986\",\"lcl|NW_011934612.1_cds_XP_011454171.1_311\",\"Q7M3Y3\",112,\"TNNI_CHLNI\",\"Troponin I (TnI)\",\"\",\"Chlamys nipponensis akazara (Akazara scallop) (Japanese scallop)\",292,\"\",\"\",\"\"\n",
      "\"LOC105346986\",\"lcl|NW_011934612.1_cds_XP_011454255.1_312\",\"Q7M3Y3\",112,\"TNNI_CHLNI\",\"Troponin I (TnI)\",\"\",\"Chlamys nipponensis akazara (Akazara scallop) (Japanese scallop)\",292,\"\",\"\",\"\"\n"
     ]
    }
   ],
   "source": [
    "!grep \"LOC105346986\" ../data/locusMerge.sorted"
   ]
  },
  {
   "cell_type": "code",
   "execution_count": 98,
   "metadata": {},
   "outputs": [
    {
     "name": "stdout",
     "output_type": "stream",
     "text": [
      "\"V2\"\n",
      "\"LOC105317034\"\n",
      "\"LOC105317034\"\n",
      "\"LOC105317034\"\n",
      "\"\"\n",
      "\"LOC105317034\"\n",
      "\"LOC105317034\"\n",
      "\"LOC105317034\"\n",
      "\"\"\n",
      "\"LOC105317034\"\n"
     ]
    }
   ],
   "source": [
    "!cut -d',' -f1 ../data/locusMerge.sorted | head"
   ]
  },
  {
   "cell_type": "code",
   "execution_count": 104,
   "metadata": {},
   "outputs": [],
   "source": [
    "!cut -d',' -f1 ../data/locusMerge.sorted | pbcopy"
   ]
  },
  {
   "cell_type": "markdown",
   "metadata": {},
   "source": [
    "# lets join"
   ]
  },
  {
   "cell_type": "code",
   "execution_count": 100,
   "metadata": {},
   "outputs": [],
   "source": [
    "!join -1 1 -2 1 -t , \\\n",
    "../data/top25marker.sorted \\\n",
    "../data/locusMerge.sorted \\\n",
    "> ../analyses/marker-annot-join.txt"
   ]
  },
  {
   "cell_type": "code",
   "execution_count": 101,
   "metadata": {},
   "outputs": [],
   "source": [
    "!head ../analyses/marker-annot-join.txt"
   ]
  },
  {
   "cell_type": "code",
   "execution_count": 35,
   "metadata": {},
   "outputs": [
    {
     "name": "stdout",
     "output_type": "stream",
     "text": [
      "\n",
      "JOIN(1)                   BSD General Commands Manual                  JOIN(1)\n",
      "\n",
      "NAME\n",
      "     join -- relational database operator\n",
      "\n",
      "SYNOPSIS\n",
      "     join [-a file_number | -v file_number] [-e string] [-o list] [-t char]\n",
      "          [-1 field] [-2 field] file1 file2\n",
      "\n",
      "DESCRIPTION\n",
      "     The join utility performs an ``equality join'' on the specified files and\n",
      "     writes the result to the standard output.  The ``join field'' is the\n",
      "     field in each file by which the files are compared.  The first field in\n",
      "     each line is used by default.  There is one line in the output for each\n",
      "     pair of lines in file1 and file2 which have identical join fields.  Each\n",
      "     output line consists of the join field, the remaining fields from file1\n",
      "     and then the remaining fields from file2.\n",
      "\n",
      "     The default field separators are tab and space characters.  In this case,\n",
      "     multiple tabs and spaces count as a single field separator, and leading\n",
      "     tabs and spaces are ignored.  The default output field separator is a\n",
      "     single space character.\n",
      "\n",
      "     Many of the options use file and field numbers.  Both file numbers and\n",
      "     field numbers are 1 based, i.e., the first file on the command line is\n",
      "     file number 1 and the first field is field number 1.  The following\n",
      "     options are available:\n",
      "\n",
      "     -a file_number\n",
      "             In addition to the default output, produce a line for each\n",
      "             unpairable line in file file_number.\n",
      "\n",
      "     -e string\n",
      "             Replace empty output fields with string.\n",
      "\n",
      "     -o list\n",
      "             The -o option specifies the fields that will be output from each\n",
      "             file for each line with matching join fields.  Each element of\n",
      "             list has the either the form `file_number.field', where\n",
      "             file_number is a file number and field is a field number, or the\n",
      "             form `0' (zero), representing the join field.  The elements of\n",
      "             list must be either comma (`,') or whitespace separated.  (The\n",
      "             latter requires quoting to protect it from the shell, or, a sim-\n",
      "             pler approach is to use multiple -o options.)\n",
      "\n",
      "     -t char\n",
      "             Use character char as a field delimiter for both input and out-\n",
      "             put.  Every occurrence of char in a line is significant.\n",
      "\n",
      "     -v file_number\n",
      "             Do not display the default output, but display a line for each\n",
      "             unpairable line in file file_number.  The options -v 1 and -v 2\n",
      "             may be specified at the same time.\n",
      "\n",
      "     -1 field\n",
      "             Join on the field'th field of file 1.\n",
      "\n",
      "     -2 field\n",
      "             Join on the field'th field of file 2.\n",
      "\n",
      "     When the default field delimiter characters are used, the files to be\n",
      "     joined should be ordered in the collating sequence of sort(1), using the\n",
      "     -b option, on the fields on which they are to be joined, otherwise join\n",
      "     may not report all field matches.  When the field delimiter characters\n",
      "     are specified by the -t option, the collating sequence should be the same\n",
      "     as sort(1) without the -b option.\n",
      "\n",
      "     If one of the arguments file1 or file2 is ``-'', the standard input is\n",
      "     used.\n",
      "\n",
      "EXIT STATUS\n",
      "     The join utility exits 0 on success, and >0 if an error occurs.\n",
      "\n",
      "COMPATIBILITY\n",
      "     For compatibility with historic versions of join, the following options\n",
      "     are available:\n",
      "\n",
      "     -a      In addition to the default output, produce a line for each\n",
      "             unpairable line in both file 1 and file 2.\n",
      "\n",
      "     -j1 field\n",
      "             Join on the field'th field of file 1.\n",
      "\n",
      "     -j2 field\n",
      "             Join on the field'th field of file 2.\n",
      "\n",
      "     -j field\n",
      "             Join on the field'th field of both file 1 and file 2.\n",
      "\n",
      "     -o list ...\n",
      "             Historical implementations of join permitted multiple arguments\n",
      "             to the -o option.  These arguments were of the form\n",
      "             `file_number.field_number' as described for the current -o\n",
      "             option.  This has obvious difficulties in the presence of files\n",
      "             named `1.2'.\n",
      "\n",
      "     These options are available only so historic shell scripts do not require\n",
      "     modification.  They should not be used in new code.\n",
      "\n",
      "LEGACY DESCRIPTION\n",
      "     The -e option causes a specified string to be substituted into empty\n",
      "     fields, even if they are in the middle of a line.  In legacy mode, the\n",
      "     substitution only takes place at the end of a line.\n",
      "\n",
      "     Only documented options are allowed.  In legacy mode, some obsolete\n",
      "     options are re-written into current options.\n",
      "\n",
      "     For more information about legacy mode, see compat(5).\n",
      "\n",
      "SEE ALSO\n",
      "     awk(1), comm(1), paste(1), sort(1), uniq(1), compat(5)\n",
      "\n",
      "STANDARDS\n",
      "     The join command conforms to IEEE Std 1003.1-2001 (``POSIX.1'').\n",
      "\n",
      "BSD                              July 5, 2004                              BSD\n"
     ]
    }
   ],
   "source": [
    "!man join"
   ]
  },
  {
   "cell_type": "code",
   "execution_count": null,
   "metadata": {},
   "outputs": [],
   "source": []
  }
 ],
 "metadata": {
  "kernelspec": {
   "display_name": "Python 3",
   "language": "python",
   "name": "python3"
  },
  "language_info": {
   "codemirror_mode": {
    "name": "ipython",
    "version": 3
   },
   "file_extension": ".py",
   "mimetype": "text/x-python",
   "name": "python",
   "nbconvert_exporter": "python",
   "pygments_lexer": "ipython3",
   "version": "3.8.3"
  }
 },
 "nbformat": 4,
 "nbformat_minor": 4
}
